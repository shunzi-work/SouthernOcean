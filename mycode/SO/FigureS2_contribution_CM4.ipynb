{
 "cells": [
  {
   "cell_type": "code",
   "execution_count": 1,
   "id": "4ce138dc-73ec-4e3d-af80-78fe89032ee8",
   "metadata": {},
   "outputs": [],
   "source": [
    "# filter some warning messages\n",
    "import warnings\n",
    "warnings.filterwarnings(\"ignore\") \n",
    "\n",
    "import os\n",
    "os.environ['NUMPY_EXPERIMENTAL_ARRAY_FUNCTION'] = '0'"
   ]
  },
  {
   "cell_type": "code",
   "execution_count": 2,
   "id": "360db3db-5181-4d5f-8269-1bd24e37751e",
   "metadata": {},
   "outputs": [],
   "source": [
    "import numpy as np\n",
    "import xesmf as xe\n",
    "import xarray as xr\n",
    "\n",
    "import copy"
   ]
  },
  {
   "cell_type": "code",
   "execution_count": 3,
   "id": "9e39b910-2472-4562-ad3f-a68306767351",
   "metadata": {},
   "outputs": [],
   "source": [
    "from intake import open_catalog\n",
    "url = \"https://raw.githubusercontent.com/pangeo-data/pangeo-datastore/master/intake-catalogs/master.yaml\"\n",
    "col = open_catalog(url).climate.cmip6_gcs()"
   ]
  },
  {
   "cell_type": "code",
   "execution_count": 4,
   "id": "86ad01b6-e27f-48b3-934d-7b520119557e",
   "metadata": {},
   "outputs": [],
   "source": [
    "# functions for fetching cmip6 data from google cloud\n",
    "def rename_coords(ds):\n",
    "    ds = ds.copy()\n",
    "    \"\"\"Rename all depth dim to `lev`\"\"\"\n",
    "    if \"olevel\" in ds.coords:\n",
    "        ds = ds.rename({\"olevel\": \"lev\"})\n",
    "    if \"lev_partial\" in ds.coords:\n",
    "        ds = ds.rename({\"lev_partial\": \"lev\"})\n",
    "    \"\"\"Rename all latitude, longitude dim to `lat`,`lon`\"\"\"\n",
    "    if 'latitude' in ds.coords:\n",
    "        ds = ds.rename({'longitude': 'lon', 'latitude': 'lat'})\n",
    "    if 'nav_lat' in ds.coords:\n",
    "        ds = ds.rename({'nav_lon': 'lon', 'nav_lat': 'lat'})\n",
    "    return ds\n",
    "\n",
    "def get_dataset(col, var, freq, expe, model, grid):\n",
    "    dataset = col.search(variable_id = var, table_id = freq, experiment_id = expe, \n",
    "                         source_id = model, grid_label = grid).to_dataset_dict(\n",
    "        zarr_kwargs= {'consolidated': True, 'decode_times':True}, preprocess = rename_coords)\n",
    "    dataset = dataset[list(dataset)[0]].squeeze('member_id').reset_coords('member_id', drop = True)\n",
    "    return dataset"
   ]
  },
  {
   "cell_type": "code",
   "execution_count": null,
   "id": "22d4cb5f-789a-4739-ade9-ec78318eacb6",
   "metadata": {},
   "outputs": [
    {
     "name": "stdout",
     "output_type": "stream",
     "text": [
      "\n",
      "--> The keys in the returned dictionary of datasets are constructed as follows:\n",
      "\t'activity_id.institution_id.source_id.experiment_id.table_id.grid_label'\n"
     ]
    }
   ],
   "source": [
    "model_name = 'GFDL-CM4' \n",
    "experiment = 'piControl'\n",
    "frequency = 'Omon'\n",
    "variables = ['so', 'thetao']\n",
    "\n",
    "ds_cm4 = get_dataset(col, variables, frequency, experiment, model_name, 'gr')"
   ]
  },
  {
   "cell_type": "code",
   "execution_count": 5,
   "id": "5c600311-eb4f-423c-9970-f8fda7dfc124",
   "metadata": {},
   "outputs": [],
   "source": [
    "# functions for calculating potential density (dens0)\n",
    "def smow(t):\n",
    "    a = (999.842594, 6.793952e-2, -9.095290e-3, 1.001685e-4, -1.120083e-6,\n",
    "         6.536332e-9)\n",
    "    T68 = t * 1.00024\n",
    "    return (a[0] + (a[1] + (a[2] + (a[3] + (a[4] + a[5] * T68) * T68) * T68) *\n",
    "            T68) * T68)\n",
    "\n",
    "def dens0(s, t):\n",
    "    T68 = t * 1.00024\n",
    "    b = (8.24493e-1, -4.0899e-3, 7.6438e-5, -8.2467e-7, 5.3875e-9)\n",
    "    c = (-5.72466e-3, 1.0227e-4, -1.6546e-6)\n",
    "    d = 4.8314e-4\n",
    "    return (smow(t) + (b[0] + (b[1] + (b[2] + (b[3] + b[4] * T68) * T68) *\n",
    "            T68) * T68) * s + (c[0] + (c[1] + c[2] * T68) * T68) * s *\n",
    "            s ** 0.5 + d * s ** 2)\n",
    "\n",
    "def func_dens0(dataset, month_no = 9):\n",
    "    da_t = list(dataset.thetao.groupby(\"time.month\"))[month_no-1][-1]\n",
    "    da_s = list(dataset.so.groupby(\"time.month\"))[month_no-1][-1]\n",
    "    da_dens = dens0(da_s, da_t)\n",
    "    return da_dens"
   ]
  },
  {
   "cell_type": "code",
   "execution_count": 6,
   "id": "47692b27-8fe1-4cfe-8a03-8269f0b1de14",
   "metadata": {},
   "outputs": [],
   "source": [
    "# functions for calculate MLD\n",
    "def func_mld(dens_diff, depths):\n",
    "    '''\n",
    "    Function for calculate mld from density difference (den - den10 - 0.03) and depth\n",
    "    Return mixed layer depth \n",
    "    '''\n",
    "    if np.isnan(dens_diff[0]):\n",
    "        mld = np.nan\n",
    "    elif dens_diff[0] >= 0:\n",
    "        mld = np.nan\n",
    "    else:\n",
    "        nthr_index = np.where(dens_diff > 0)[0]\n",
    "        if len(nthr_index) == 0:\n",
    "            naninds = np.where(np.isnan(dens_diff))[0]\n",
    "            if len(naninds) > 0:\n",
    "                nanindex = naninds[0]\n",
    "            else:\n",
    "                nanindex = len(depths)\n",
    "            mld = depths[nanindex-1]\n",
    "        else:\n",
    "            nind = nthr_index[0] + 1\n",
    "            mld = np.interp(0, dens_diff[:nind], depths[:nind])\n",
    "    return mld\n",
    "\n",
    "def xr_func_mld(dens):\n",
    "    '''\n",
    "    Function for parallel computing\n",
    "    '''\n",
    "    dens10 = dens.interp(lev = 10, method = 'linear')  # density at 10m\n",
    "    dens_diff = dens - dens10 - 0.03               # density differences \n",
    "    mld = xr.apply_ufunc(\n",
    "        func_mld, \n",
    "        dens_diff,#.chunk({\"time\":25, \"x\":30, \"y\":30}),  \n",
    "        dens_diff.lev, \n",
    "        input_core_dims = [[\"lev\"], [\"lev\"]], \n",
    "        vectorize = True,\n",
    "        dask = \"parallelized\",\n",
    "        output_dtypes = [dens_diff.lev.dtype],\n",
    "    )\n",
    "    return mld"
   ]
  },
  {
   "cell_type": "code",
   "execution_count": null,
   "id": "43cf98a4-6300-4f7d-a371-c0ffc353bf3b",
   "metadata": {},
   "outputs": [],
   "source": []
  }
 ],
 "metadata": {
  "kernelspec": {
   "display_name": "Python 3 (ipykernel)",
   "language": "python",
   "name": "python3"
  },
  "language_info": {
   "codemirror_mode": {
    "name": "ipython",
    "version": 3
   },
   "file_extension": ".py",
   "mimetype": "text/x-python",
   "name": "python",
   "nbconvert_exporter": "python",
   "pygments_lexer": "ipython3",
   "version": "3.9.12"
  }
 },
 "nbformat": 4,
 "nbformat_minor": 5
}
