{
 "cells": [
  {
   "cell_type": "markdown",
   "metadata": {},
   "source": [
    "# Southern Ocean Codes"
   ]
  },
  {
   "cell_type": "code",
   "execution_count": null,
   "metadata": {},
   "outputs": [],
   "source": [
    "# filter some warning messages\n",
    "import warnings\n",
    "warnings.filterwarnings(\"ignore\") \n",
    "\n",
    "import os\n",
    "os.environ['NUMPY_EXPERIMENTAL_ARRAY_FUNCTION'] = '0'"
   ]
  },
  {
   "cell_type": "code",
   "execution_count": null,
   "metadata": {},
   "outputs": [],
   "source": [
    "import numpy as np\n",
    "import xesmf as xe\n",
    "import xarray as xr\n",
    "import seawater as sw\n",
    "\n",
    "import copy"
   ]
  },
  {
   "cell_type": "markdown",
   "metadata": {},
   "source": [
    "## Initialize Dataset\n",
    "\n",
    "Read CMIP6 data from Google Cloud using intake"
   ]
  },
  {
   "cell_type": "code",
   "execution_count": null,
   "metadata": {},
   "outputs": [],
   "source": [
    "import intake\n",
    "url = \"https://raw.githubusercontent.com/pangeo-data/pangeo-datastore/master/intake-catalogs/master.yaml\"\n",
    "cat = intake.open_catalog(url)\n",
    "col = cat.climate.cmip6_gcs()"
   ]
  },
  {
   "cell_type": "code",
   "execution_count": null,
   "metadata": {},
   "outputs": [],
   "source": [
    "def rename_coords(ds):\n",
    "    ds = ds.copy()\n",
    "    \"\"\"Rename all depth dim to `lev`\"\"\"\n",
    "    if \"olevel\" in ds.coords:\n",
    "        ds = ds.rename({\"olevel\": \"lev\"})\n",
    "    if \"lev_partial\" in ds.coords:\n",
    "        ds = ds.rename({\"lev_partial\": \"lev\"})\n",
    "    \"\"\"Rename all latitude, longitude dim to `lat`,`lon`\"\"\"\n",
    "    if 'latitude' in ds.coords:\n",
    "        ds = ds.rename({'longitude': 'lon', 'latitude': 'lat'})\n",
    "    if 'nav_lat' in ds.coords:\n",
    "        ds = ds.rename({'nav_lon': 'lon', 'nav_lat': 'lat'})\n",
    "    if 'nav_lat' in ds.coords:\n",
    "        ds = ds.rename({'nav_lon': 'lon', 'nav_lat': 'lat'})\n",
    "    \"\"\"decode cftime\"\"\"\n",
    "    ds = xr.decode_cf(ds)\n",
    "    return ds\n",
    "\n",
    "def func_get_data(col, model, var, expe, freq, mem = 'r1i1p1f1', grid = 'gr'):\n",
    "    dcat = col.search(variable_id = var,\n",
    "                      table_id = freq, \n",
    "                      experiment_id = expe,\n",
    "                      source_id = model,\n",
    "                      member_id = mem, \n",
    "                      grid_label = grid)\n",
    "    if dcat.df.empty:\n",
    "        print('No data')\n",
    "    else:\n",
    "        key0 = dcat.keys()[0]\n",
    "        data_source = dcat[key0]\n",
    "        z_kwargs = {'consolidated': True, 'decode_times':False}\n",
    "        dataset = data_source(zarr_kwargs=z_kwargs, preprocess=rename_coords).to_dask()\n",
    "        \n",
    "        dataset = dataset.squeeze('member_id')\n",
    "        dataset = dataset.reset_coords('member_id', drop = True)\n",
    "        \n",
    "        return dataset"
   ]
  },
  {
   "cell_type": "code",
   "execution_count": null,
   "metadata": {},
   "outputs": [],
   "source": [
    "model_name = 'GFDL-CM4' \n",
    "# Potential Temperature, Sanility\n",
    "variables = ['thetao', 'so'] \n",
    "experiment = 'piControl'\n",
    "frequency = 'Omon'\n",
    "\n",
    "datasets = {}\n",
    "for var in variables:\n",
    "    print(var)\n",
    "    datasets[var] = func_get_data(col, model_name, var, experiment, frequency)"
   ]
  },
  {
   "cell_type": "markdown",
   "metadata": {},
   "source": [
    "## Calculate MLD\n",
    "\n",
    "### Calculate density\n",
    "Function smow and dens0 are modified from [python-seawater](https://github.com/pyoceans/python-seawater/tree/master/seawater)"
   ]
  },
  {
   "cell_type": "code",
   "execution_count": null,
   "metadata": {},
   "outputs": [],
   "source": [
    "def smow(t):\n",
    "    a = (999.842594, 6.793952e-2, -9.095290e-3, 1.001685e-4, -1.120083e-6,\n",
    "         6.536332e-9)\n",
    "\n",
    "    T68 = t * 1.00024\n",
    "    return (a[0] + (a[1] + (a[2] + (a[3] + (a[4] + a[5] * T68) * T68) * T68) *\n",
    "            T68) * T68)\n",
    "\n",
    "def dens0(s, t):\n",
    "    T68 = t * 1.00024\n",
    "    b = (8.24493e-1, -4.0899e-3, 7.6438e-5, -8.2467e-7, 5.3875e-9)\n",
    "    c = (-5.72466e-3, 1.0227e-4, -1.6546e-6)\n",
    "    d = 4.8314e-4\n",
    "    return (smow(t) + (b[0] + (b[1] + (b[2] + (b[3] + b[4] * T68) * T68) *\n",
    "            T68) * T68) * s + (c[0] + (c[1] + c[2] * T68) * T68) * s *\n",
    "            s ** 0.5 + d * s ** 2)"
   ]
  },
  {
   "cell_type": "code",
   "execution_count": null,
   "metadata": {},
   "outputs": [],
   "source": [
    "def func_calc_dens(ds, start_index, stop_index, month = 0):\n",
    "    '''\n",
    "    month : 0 for all months\n",
    "    '''\n",
    "    ds_t = ds['thetao']\n",
    "    ds_s = ds['so']\n",
    "    \n",
    "    da_t = ds_t['thetao'].isel(time = slice(start_index, stop_index))\n",
    "    da_s = ds_s['so'].isel(time = slice(start_index, stop_index))\n",
    "    \n",
    "    if month:\n",
    "        da_t = list(da_t.groupby(\"time.month\"))[month-1][-1]\n",
    "        da_s = list(da_s.groupby(\"time.month\"))[month-1][-1]\n",
    "    \n",
    "    dens = dens0(da_s, da_t)\n",
    "    \n",
    "    return dens"
   ]
  },
  {
   "cell_type": "markdown",
   "metadata": {},
   "source": [
    "Limitation of worker memory is 8G, need to check output data size."
   ]
  },
  {
   "cell_type": "code",
   "execution_count": null,
   "metadata": {},
   "outputs": [],
   "source": [
    "start_year = 1\n",
    "end_year = 100\n",
    "month_no = 9\n",
    "\n",
    "da_dens = func_calc_dens(datasets, (start_year-1)*12, end_year*12, month_no)\n",
    "da_dens"
   ]
  },
  {
   "cell_type": "markdown",
   "metadata": {},
   "source": [
    "### Regrid the data "
   ]
  },
  {
   "cell_type": "code",
   "execution_count": null,
   "metadata": {},
   "outputs": [],
   "source": [
    "def func_regrid(ds, ds_out, reuse=False, clear=True):\n",
    "    dsr =  xe.Regridder(ds, ds_out, 'bilinear', periodic=True, reuse_weights = reuse, ignore_degenerate=True)\n",
    "    dsr._grid_in = None\n",
    "    dsr._grid_out = None\n",
    "    dsr_out = dsr(ds)\n",
    "    if clear:\n",
    "        dsr.clean_weight_file()\n",
    "    return dsr_out"
   ]
  },
  {
   "cell_type": "code",
   "execution_count": null,
   "metadata": {},
   "outputs": [],
   "source": [
    "##### Regridding output data grid ####\n",
    "ds_out = xr.Dataset({'lat': (['lat'], np.arange(-90, 91, 1.0)),\n",
    "                     'lon': (['lon'], np.arange(0, 361, 1.0))})"
   ]
  },
  {
   "cell_type": "code",
   "execution_count": null,
   "metadata": {},
   "outputs": [],
   "source": [
    "da_dens_gr = func_regrid(da_dens, ds_out)"
   ]
  },
  {
   "cell_type": "markdown",
   "metadata": {},
   "source": [
    "### Create and Connect to Dask Distributed Cluster"
   ]
  },
  {
   "cell_type": "code",
   "execution_count": null,
   "metadata": {},
   "outputs": [],
   "source": [
    "from dask.distributed import Client\n",
    "from dask_gateway import Gateway\n",
    "\n",
    "gateway = Gateway()\n",
    "options = gateway.cluster_options()\n",
    "options.worker_cores = 4 #16\n",
    "options.worker_memory = 8 #32\n",
    "cluster = gateway.new_cluster(options)\n",
    "\n",
    "# cluster.adapt(minimum = 0, maximum = 40)\n",
    "cluster.adapt()\n",
    "\n",
    "client = Client(cluster, timeout='50s') \n",
    "cluster"
   ]
  },
  {
   "cell_type": "code",
   "execution_count": null,
   "metadata": {},
   "outputs": [],
   "source": [
    "options"
   ]
  },
  {
   "cell_type": "markdown",
   "metadata": {},
   "source": [
    "### Calculate mixed layer depth"
   ]
  },
  {
   "cell_type": "code",
   "execution_count": null,
   "metadata": {},
   "outputs": [],
   "source": [
    "def func_mld(dens_diff, depths):\n",
    "    '''\n",
    "    Calculating the mixed layer depth based on the constant potential density \n",
    "    difference criterion.\n",
    "    MLD = depth where(sigma[mld] = sigma[10] + 0.03 kg/m3). \n",
    "    (0.03 kg/m3 ~= 0.03 psu)\n",
    "    ----------\n",
    "    References\n",
    "    .. [1] de Boyer Montégut, C., G. Madec, A. S. Fischer, A. Lazar, and \n",
    "    D. Iudicone, 2004: Mixed layer depth over the global ocean: an examination\n",
    "    of profile data and a profile-based climatology. J. Geophys. Res., 109, \n",
    "    C12003. doi:10.1029/2004JC002378\n",
    "    '''\n",
    "    if np.isnan(dens_diff[0]):\n",
    "        mld = np.nan\n",
    "    else:\n",
    "        mld = np.interp(0, dens_diff, depths)\n",
    "        if np.isnan(mld):\n",
    "            nanindex = np.where(np.isnan(dens_diff))[0][0]\n",
    "            dens_diff_drop = dens_diff[:nanindex]\n",
    "            if np.all(np.abs(dens_diff_drop)<0.03):\n",
    "                mld = depths[nanindex-1]\n",
    "            else:\n",
    "                mld = np.nan\n",
    "#         else:\n",
    "#             diff_last = np.abs(dens_diff.sel(lev = mld, method = 'ffill')) \n",
    "#             diff_next = np.abs(dens_diff.sel(lev = mld, method = 'bfill'))\n",
    "#             while diff_last > diff_next:\n",
    "#                 if diff_last.lev == mld:\n",
    "#                     break\n",
    "#                 new_diff = dens_diff.sel(lev = slice(mld, None))\n",
    "#                 mld = np.interp(0, new_diff, new_diff.lev)\n",
    "    return mld"
   ]
  },
  {
   "cell_type": "code",
   "execution_count": null,
   "metadata": {},
   "outputs": [],
   "source": [
    "def xr_func_mld(dens_diff):\n",
    "    dens_diff.load()\n",
    "    mld = xr.apply_ufunc(\n",
    "        func_mld, \n",
    "        dens_diff.chunk({\"time\":25,\"lon\":60,\"lat\":60}),  \n",
    "        dens_diff.lev,\n",
    "        input_core_dims=[[\"lev\"], [\"lev\"]],\n",
    "        vectorize=True,\n",
    "        dask=\"parallelized\",\n",
    "        output_dtypes=[dens_diff.lev.dtype])\n",
    "    return mld"
   ]
  },
  {
   "cell_type": "code",
   "execution_count": null,
   "metadata": {},
   "outputs": [],
   "source": [
    "da_dens10 = da_dens_gr.interp(lev=10, method='linear') # density at 10m\n",
    "da_dens_diff = da_dens_gr - da_dens10 -0.03            # density differences\n",
    "\n",
    "da_mld = xr_func_mld(da_dens_diff)"
   ]
  },
  {
   "cell_type": "markdown",
   "metadata": {},
   "source": [
    "## Visualize Data"
   ]
  },
  {
   "cell_type": "code",
   "execution_count": null,
   "metadata": {},
   "outputs": [],
   "source": [
    "import matplotlib.pyplot as plt\n",
    "import cartopy.crs as ccrs\n",
    "import cartopy.feature as cfeature"
   ]
  },
  {
   "cell_type": "markdown",
   "metadata": {},
   "source": [
    "### plot mean MLD"
   ]
  },
  {
   "cell_type": "code",
   "execution_count": null,
   "metadata": {},
   "outputs": [],
   "source": [
    "pltmld = da_mld.mean(dim='time',skipna=True).load()"
   ]
  },
  {
   "cell_type": "code",
   "execution_count": null,
   "metadata": {},
   "outputs": [],
   "source": [
    "fig = plt.figure(figsize=(12,6))\n",
    "ax = plt.axes(projection=ccrs.SouthPolarStereo())\n",
    "ax.set_extent([-180, 180, -90, -30], ccrs.PlateCarree())\n",
    "\n",
    "ax.add_feature(cfeature.LAND, zorder=0, color='0.8')\n",
    "ax.add_feature(cfeature.COASTLINE, linewidth=1.25)\n",
    "\n",
    "gl = ax.gridlines(\n",
    "    xlocs = np.arange(-180,180,30), \n",
    "    ylocs = np.arange(-90,90,20),\n",
    "    draw_labels=True, y_inline=False)\n",
    "# gl.top_labels = False\n",
    "\n",
    "im = ax.contourf(da_mld.lon, da_mld.lat, pltmld,transform=ccrs.PlateCarree(),cmap=plt.cm.jet)\n",
    "plt.colorbar(im)\n",
    "plt.title('Average September MLD [m] - '+' year '+ str(start_year) + '-' + str(end_year) + ' - ' + model_name, fontsize=18)"
   ]
  },
  {
   "cell_type": "code",
   "execution_count": null,
   "metadata": {},
   "outputs": [],
   "source": [
    "client.close()\n",
    "cluster.close()"
   ]
  },
  {
   "cell_type": "code",
   "execution_count": null,
   "metadata": {},
   "outputs": [],
   "source": []
  }
 ],
 "metadata": {
  "kernelspec": {
   "display_name": "Python 3",
   "language": "python",
   "name": "python3"
  },
  "language_info": {
   "codemirror_mode": {
    "name": "ipython",
    "version": 3
   },
   "file_extension": ".py",
   "mimetype": "text/x-python",
   "name": "python",
   "nbconvert_exporter": "python",
   "pygments_lexer": "ipython3",
   "version": "3.8.5"
  }
 },
 "nbformat": 4,
 "nbformat_minor": 4
}
